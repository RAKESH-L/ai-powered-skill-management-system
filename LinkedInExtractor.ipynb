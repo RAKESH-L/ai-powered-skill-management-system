{
  "nbformat": 4,
  "nbformat_minor": 0,
  "metadata": {
    "colab": {
      "provenance": []
    },
    "kernelspec": {
      "name": "python3",
      "display_name": "Python 3"
    },
    "language_info": {
      "name": "python"
    }
  },
  "cells": [
    {
      "cell_type": "code",
      "source": [
        "import requests\n",
        "from urllib.parse import urlencode,urlparse,parse_qs,quote\n"
      ],
      "metadata": {
        "id": "EkYOGhp0ErQz"
      },
      "execution_count": null,
      "outputs": []
    },
    {
      "cell_type": "code",
      "source": [
        "# LinkedIn API Keys and Endpoints\n",
        "client_id = \"86hbgj4lihi2z8\"\n",
        "client_secret = \"BJBS39apK9yf68kt\"\n",
        "redirect_uri = \"https://open.spotify.com\"\n",
        "auth_url = \"https://www.linkedin.com/oauth/v2/authorization\"\n",
        "token_url = \"https://www.linkedin.com/oauth/v2/accessToken\""
      ],
      "metadata": {
        "id": "XJvLNNXqEy0v"
      },
      "execution_count": null,
      "outputs": []
    },
    {
      "cell_type": "code",
      "source": [
        "from urllib.parse import urlencode\n",
        "\n",
        "# Define your client ID, callback URL, and scopes\n",
        "client_id = \"86hbgj4lihi2z8\"\n",
        "callback_url = \"https://open.spotify.com\"\n",
        "\n",
        "\n",
        "# Step 1: Redirect User for Authorization\n",
        "params = {\n",
        "    'response_type': 'code',\n",
        "    'client_id': client_id,\n",
        "    'redirect_uri': callback_url,\n",
        "    'scope': 'openid profile email w_member_social'\n",
        "}\n",
        "authorization_url = \"https://www.linkedin.com/oauth/v2/authorization?\" + urlencode(params)\n",
        "print(\"Go to the following URL to authorize the application:\")\n",
        "print(authorization_url)\n",
        "\n"
      ],
      "metadata": {
        "colab": {
          "base_uri": "https://localhost:8080/"
        },
        "id": "Z3g7292WFXnY",
        "outputId": "ba5053c9-b06e-4f12-a2e2-1bb4ef178e99"
      },
      "execution_count": null,
      "outputs": [
        {
          "output_type": "stream",
          "name": "stdout",
          "text": [
            "Go to the following URL to authorize the application:\n",
            "https://www.linkedin.com/oauth/v2/authorization?response_type=code&client_id=86hbgj4lihi2z8&redirect_uri=https%3A%2F%2Fopen.spotify.com&scope=openid+profile+email+w_member_social\n"
          ]
        }
      ]
    },
    {
      "cell_type": "code",
      "source": [
        "authorization_code = input(\"Enter the authorization code from the redirected URL: \")\n",
        "\n",
        "parsed_url = urlparse(authorization_code)\n",
        "authorization_code = parse_qs(parsed_url.query)['code'][0]\n",
        "\n",
        "# Step 3: Exchange Authorization Code for Access Token\n",
        "token_params = {\n",
        "    'grant_type': 'authorization_code',\n",
        "    'code': authorization_code,\n",
        "    'client_id': client_id,\n",
        "    'client_secret': client_secret,\n",
        "    'redirect_uri': redirect_uri\n",
        "}\n",
        "response = requests.post(token_url, data=token_params)\n",
        "\n",
        "# Check if the request was successful\n",
        "if response.status_code == 200:\n",
        "    # Parse the JSON response\n",
        "    response_data = response.json()\n",
        "\n",
        "    # Check if 'access_token' key is present in the response\n",
        "    if 'access_token' in response_data:\n",
        "        access_token = response_data['access_token']\n",
        "        print(\"Access Token:\", access_token)\n",
        "    else:\n",
        "        print(\"Access token not found in response:\", response_data)\n",
        "else:\n",
        "    print(\"Error:\", response.status_code, response.text)\n",
        "\n",
        "\n",
        "\n",
        "profile_url = \"https://api.linkedin.com/v2/userinfo\"\n",
        "headers = {'Authorization': f'Bearer {access_token}'}\n",
        "profile_response = requests.get(profile_url, headers=headers)\n",
        "profile_data = profile_response.json()\n",
        "\n",
        "\n",
        "# Step 5: Process Profile Data\n",
        "print(\"LinkedIn Profile Data:\", profile_data)"
      ],
      "metadata": {
        "colab": {
          "base_uri": "https://localhost:8080/"
        },
        "id": "Jnd08bH6F0nW",
        "outputId": "aa8b7506-2f4e-427c-8c9a-b91847b1f14a"
      },
      "execution_count": null,
      "outputs": [
        {
          "output_type": "stream",
          "name": "stdout",
          "text": [
            "Enter the authorization code from the redirected URL: https://open.spotify.com/?code=AQQlDl92Rwh0zjUv7SZhJNfBkOA7jtZXh00aHyPrwbTM1vK9JryJX8LTqP3e86BS3Pl52bLz6JOZ9Pdx9jcZbrd1pNMVv4owDaiiCDbvgKQFBRXijbBi6OLELzrcRlAmmRZSH911ac4MqNAPcEkYccMpfiexidP0C0Vb9IdNLwnKUs6Sh1-KipD0E-hZx-GisHUmD1AmmvvNQxvky_o\n",
            "Access Token: AQVn9Sar6pvLe3IcY8pCJYvZME1_Q7vhdiairWml6ga2gzB3yuZKpOH_pdfWGvwAYOo6_SwRN1gvok45hq2hz519rmnC5BEgMTf0-bu6GIvjXZzIxPNn9vkgVaD_B4bEiMe2xdOrB51r8wV6QAlcIE2pW_LVX3xiwneRFDpa7HNEhGKdjFW9in78u6Tz0t-6QU2BZTQ2f9lkE_ettzuqkryFD62_I45WsGtG_oVtJ4HWxUI8FUEtGze3Wo5hBCKvJKK3HVsWazWQAvVcTXF9ty_zHaGBpB9LkaQ3w7BkowVuMVxU3WjtmhAdJxQ4hTZ3WH-BW6AJTW6VDP9PjVvrinPxY8xSXA\n",
            "LinkedIn Profile Data: {'sub': 'a4kraMUHT6', 'email_verified': True, 'name': 'Vinay HS', 'locale': {'country': 'US', 'language': 'en'}, 'given_name': 'Vinay', 'family_name': 'HS', 'email': '1382000vinay@gmail.com', 'picture': 'https://media.licdn.com/dms/image/D5603AQFQSoGZVzafaQ/profile-displayphoto-shrink_100_100/0/1705210530236?e=1718841600&v=beta&t=p0xtw4fLRCzJJGa9Hu0LxscZvF8d3L-eZenfQ0J9sO0'}\n"
          ]
        }
      ]
    },
    {
      "cell_type": "code",
      "source": [],
      "metadata": {
        "id": "ILAcd68HJxOT"
      },
      "execution_count": null,
      "outputs": []
    }
  ]
}