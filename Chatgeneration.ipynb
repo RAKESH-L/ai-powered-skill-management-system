{
  "cells": [
    {
      "cell_type": "code",
      "execution_count": null,
      "metadata": {
        "colab": {
          "base_uri": "https://localhost:8080/"
        },
        "id": "Kykrof_cBU6y",
        "outputId": "260362fa-1617-454a-f6a7-71040e3fbf77"
      },
      "outputs": [
        {
          "name": "stdout",
          "output_type": "stream",
          "text": [
            "Requirement already satisfied: openai in /usr/local/lib/python3.10/dist-packages (1.23.2)\n",
            "Requirement already satisfied: anyio<5,>=3.5.0 in /usr/local/lib/python3.10/dist-packages (from openai) (3.7.1)\n",
            "Requirement already satisfied: distro<2,>=1.7.0 in /usr/lib/python3/dist-packages (from openai) (1.7.0)\n",
            "Requirement already satisfied: httpx<1,>=0.23.0 in /usr/local/lib/python3.10/dist-packages (from openai) (0.27.0)\n",
            "Requirement already satisfied: pydantic<3,>=1.9.0 in /usr/local/lib/python3.10/dist-packages (from openai) (2.7.0)\n",
            "Requirement already satisfied: sniffio in /usr/local/lib/python3.10/dist-packages (from openai) (1.3.1)\n",
            "Requirement already satisfied: tqdm>4 in /usr/local/lib/python3.10/dist-packages (from openai) (4.66.2)\n",
            "Requirement already satisfied: typing-extensions<5,>=4.7 in /usr/local/lib/python3.10/dist-packages (from openai) (4.11.0)\n",
            "Requirement already satisfied: idna>=2.8 in /usr/local/lib/python3.10/dist-packages (from anyio<5,>=3.5.0->openai) (3.7)\n",
            "Requirement already satisfied: exceptiongroup in /usr/local/lib/python3.10/dist-packages (from anyio<5,>=3.5.0->openai) (1.2.0)\n",
            "Requirement already satisfied: certifi in /usr/local/lib/python3.10/dist-packages (from httpx<1,>=0.23.0->openai) (2024.2.2)\n",
            "Requirement already satisfied: httpcore==1.* in /usr/local/lib/python3.10/dist-packages (from httpx<1,>=0.23.0->openai) (1.0.5)\n",
            "Requirement already satisfied: h11<0.15,>=0.13 in /usr/local/lib/python3.10/dist-packages (from httpcore==1.*->httpx<1,>=0.23.0->openai) (0.14.0)\n",
            "Requirement already satisfied: annotated-types>=0.4.0 in /usr/local/lib/python3.10/dist-packages (from pydantic<3,>=1.9.0->openai) (0.6.0)\n",
            "Requirement already satisfied: pydantic-core==2.18.1 in /usr/local/lib/python3.10/dist-packages (from pydantic<3,>=1.9.0->openai) (2.18.1)\n"
          ]
        }
      ],
      "source": [
        "pip install openai"
      ]
    },
    {
      "cell_type": "code",
      "execution_count": null,
      "metadata": {
        "id": "l_49CkiSWDm3"
      },
      "outputs": [],
      "source": [
        "import os\n",
        "import time\n",
        "import json\n",
        "from openai import AzureOpenAI\n",
        "\n",
        "# Set your API key and endpoint directly\n",
        "api_key = \"46bdeda9523d43b89c0c47de677fafab\"\n",
        "endpoint = \"https://team-invincible.openai.azure.com/\"\n",
        "\n",
        "\n",
        "client = AzureOpenAI(\n",
        "    api_key=api_key,\n",
        "    api_version=\"2024-02-15-preview\",\n",
        "    azure_endpoint=endpoint\n",
        ")\n",
        "\n",
        "# Create the assistant with updated instructions\n",
        "assistant = client.beta.assistants.create(\n",
        "    instructions=\"\"\"\n",
        "    If a user interacts with you, the first thing you need to ask is a question regarding their skills, not how can I assist you today.\n",
        "You are a data collector that asks for information about user skills, experience, project experience, and domain knowledge. At last, you will give a final output that includes the data you have collected and verify it with the user. and print the collected data as table\n",
        "\n",
        "ask question one by one if user mentioned skills ask one by one skill information make short and sweet and ask user want to exit the chat every time if yes means ask them to enter exit\n",
        "\n",
        "    \"\"\",\n",
        "    model=\"gpt-35-turbo-16k\",\n",
        "    tools=[]\n",
        ")\n",
        "\n",
        "\n"
      ]
    },
    {
      "cell_type": "code",
      "execution_count": null,
      "metadata": {
        "colab": {
          "base_uri": "https://localhost:8080/",
          "height": 480
        },
        "id": "Vl3MHViPI2m8",
        "outputId": "2204f859-3ff4-4c21-df3b-e117222ac2d5"
      },
      "outputs": [
        {
          "metadata": {
            "tags": null
          },
          "name": "stdout",
          "output_type": "stream",
          "text": [
            "Assistant: [TextContentBlock(text=Text(annotations=[], value='Hello! Before we begin, I would like to ask you a few questions about your skills. Are you ready to proceed?'), type='text')]\n",
            "Assistant: [TextContentBlock(text=Text(annotations=[], value=\"Great! Let's start with Java. How would you rate your skill level in Java on a scale of 1 to 10, with 1 being a beginner and 10 being an expert?\"), type='text')]\n",
            "Assistant: [TextContentBlock(text=Text(annotations=[], value='What are your skills?'), type='text')]\n",
            "Assistant: [TextContentBlock(text=Text(annotations=[], value='Great! Can you please tell me about your experience with Spring Boot and Spring Batch?'), type='text')]\n",
            "Assistant: [TextContentBlock(text=Text(annotations=[], value='Hello! Thank you for interacting with me. Before we proceed, may I ask what skills you have?'), type='text')]\n",
            "Assistant: [TextContentBlock(text=Text(annotations=[], value='Great! It looks like you have mentioned Python as one of your skills. Can you please provide some more information about your experience and expertise in Python?'), type='text')]\n"
          ]
        },
        {
          "output_type": "error",
          "ename": "KeyboardInterrupt",
          "evalue": "Interrupted by user",
          "traceback": [
            "\u001b[0;31m---------------------------------------------------------------------------\u001b[0m",
            "\u001b[0;31mKeyboardInterrupt\u001b[0m                         Traceback (most recent call last)",
            "\u001b[0;32m<ipython-input-43-417d0553e97e>\u001b[0m in \u001b[0;36m<cell line: 3>\u001b[0;34m()\u001b[0m\n\u001b[1;32m      6\u001b[0m \u001b[0;34m\u001b[0m\u001b[0m\n\u001b[1;32m      7\u001b[0m     \u001b[0;31m# Get user input\u001b[0m\u001b[0;34m\u001b[0m\u001b[0;34m\u001b[0m\u001b[0m\n\u001b[0;32m----> 8\u001b[0;31m     \u001b[0muser_input\u001b[0m \u001b[0;34m=\u001b[0m \u001b[0minput\u001b[0m\u001b[0;34m(\u001b[0m\u001b[0;34m\"You: \"\u001b[0m\u001b[0;34m)\u001b[0m\u001b[0;34m\u001b[0m\u001b[0;34m\u001b[0m\u001b[0m\n\u001b[0m\u001b[1;32m      9\u001b[0m \u001b[0;34m\u001b[0m\u001b[0m\n\u001b[1;32m     10\u001b[0m     \u001b[0;31m# Add user input to the thread\u001b[0m\u001b[0;34m\u001b[0m\u001b[0;34m\u001b[0m\u001b[0m\n",
            "\u001b[0;32m/usr/local/lib/python3.10/dist-packages/ipykernel/kernelbase.py\u001b[0m in \u001b[0;36mraw_input\u001b[0;34m(self, prompt)\u001b[0m\n\u001b[1;32m    849\u001b[0m                 \u001b[0;34m\"raw_input was called, but this frontend does not support input requests.\"\u001b[0m\u001b[0;34m\u001b[0m\u001b[0;34m\u001b[0m\u001b[0m\n\u001b[1;32m    850\u001b[0m             )\n\u001b[0;32m--> 851\u001b[0;31m         return self._input_request(str(prompt),\n\u001b[0m\u001b[1;32m    852\u001b[0m             \u001b[0mself\u001b[0m\u001b[0;34m.\u001b[0m\u001b[0m_parent_ident\u001b[0m\u001b[0;34m,\u001b[0m\u001b[0;34m\u001b[0m\u001b[0;34m\u001b[0m\u001b[0m\n\u001b[1;32m    853\u001b[0m             \u001b[0mself\u001b[0m\u001b[0;34m.\u001b[0m\u001b[0m_parent_header\u001b[0m\u001b[0;34m,\u001b[0m\u001b[0;34m\u001b[0m\u001b[0;34m\u001b[0m\u001b[0m\n",
            "\u001b[0;32m/usr/local/lib/python3.10/dist-packages/ipykernel/kernelbase.py\u001b[0m in \u001b[0;36m_input_request\u001b[0;34m(self, prompt, ident, parent, password)\u001b[0m\n\u001b[1;32m    893\u001b[0m             \u001b[0;32mexcept\u001b[0m \u001b[0mKeyboardInterrupt\u001b[0m\u001b[0;34m:\u001b[0m\u001b[0;34m\u001b[0m\u001b[0;34m\u001b[0m\u001b[0m\n\u001b[1;32m    894\u001b[0m                 \u001b[0;31m# re-raise KeyboardInterrupt, to truncate traceback\u001b[0m\u001b[0;34m\u001b[0m\u001b[0;34m\u001b[0m\u001b[0m\n\u001b[0;32m--> 895\u001b[0;31m                 \u001b[0;32mraise\u001b[0m \u001b[0mKeyboardInterrupt\u001b[0m\u001b[0;34m(\u001b[0m\u001b[0;34m\"Interrupted by user\"\u001b[0m\u001b[0;34m)\u001b[0m \u001b[0;32mfrom\u001b[0m \u001b[0;32mNone\u001b[0m\u001b[0;34m\u001b[0m\u001b[0;34m\u001b[0m\u001b[0m\n\u001b[0m\u001b[1;32m    896\u001b[0m             \u001b[0;32mexcept\u001b[0m \u001b[0mException\u001b[0m \u001b[0;32mas\u001b[0m \u001b[0me\u001b[0m\u001b[0;34m:\u001b[0m\u001b[0;34m\u001b[0m\u001b[0;34m\u001b[0m\u001b[0m\n\u001b[1;32m    897\u001b[0m                 \u001b[0mself\u001b[0m\u001b[0;34m.\u001b[0m\u001b[0mlog\u001b[0m\u001b[0;34m.\u001b[0m\u001b[0mwarning\u001b[0m\u001b[0;34m(\u001b[0m\u001b[0;34m\"Invalid Message:\"\u001b[0m\u001b[0;34m,\u001b[0m \u001b[0mexc_info\u001b[0m\u001b[0;34m=\u001b[0m\u001b[0;32mTrue\u001b[0m\u001b[0;34m)\u001b[0m\u001b[0;34m\u001b[0m\u001b[0;34m\u001b[0m\u001b[0m\n",
            "\u001b[0;31mKeyboardInterrupt\u001b[0m: Interrupted by user"
          ]
        }
      ],
      "source": [
        "# Loop for interaction\n",
        "collected_messages = []\n",
        "while True:\n",
        "    # Create a new thread for each interaction\n",
        "    thread = client.beta.threads.create()\n",
        "\n",
        "    # Get user input\n",
        "    user_input = input(\"You: \")\n",
        "\n",
        "    # Add user input to the thread\n",
        "    message = client.beta.threads.messages.create(\n",
        "        thread_id=thread.id,\n",
        "        role=\"user\",\n",
        "        content=user_input\n",
        "    )\n",
        "\n",
        "    # Run the thread\n",
        "    run = client.beta.threads.runs.create(\n",
        "        thread_id=thread.id,\n",
        "        assistant_id=assistant.id\n",
        "    )\n",
        "\n",
        "    # Loop until the run completes or fails\n",
        "    while run.status in ['queued', 'in_progress', 'cancelling']:\n",
        "        time.sleep(1)\n",
        "        run = client.beta.threads.runs.retrieve(\n",
        "            thread_id=thread.id,\n",
        "            run_id=run.id\n",
        "        )\n",
        "\n",
        "    # Check the status of the run and print messages if completed\n",
        "    if run.status == 'completed':\n",
        "        response = client.beta.threads.messages.list(\n",
        "            thread_id=thread.id\n",
        "        )\n",
        "        for msg in response:\n",
        "            if msg.role == 'assistant':\n",
        "                print(\"Assistant:\", msg.content)\n",
        "                # Extract text content from TextContentBlock objects\n",
        "                if isinstance(msg.content, list):\n",
        "                    for content_block in msg.content:\n",
        "                        if content_block.type == 'text':\n",
        "                            collected_messages.append({\"role\": msg.role, \"content\": str(content_block.text)})\n",
        "                else:\n",
        "                    collected_messages.append({\"role\": msg.role, \"content\": str(msg.content.text)})\n",
        "    elif run.status == 'requires_action':\n",
        "        # The assistant requires calling some functions\n",
        "        # and submit the tool outputs back to the run\n",
        "        pass\n",
        "    else:\n",
        "        print(run.status)''\n",
        "\n",
        "    # Check if user wants to exit the conversation\n",
        "    if user_input.lower() == 'exit':\n",
        "        break\n",
        "\n",
        "# Print collected messages in JSON format\n",
        "print(json.dumps(collected_messages, indent=4))"
      ]
    },
    {
      "cell_type": "code",
      "execution_count": null,
      "metadata": {
        "id": "mMuv9uIZR17i"
      },
      "outputs": [],
      "source": []
    }
  ],
  "metadata": {
    "colab": {
      "provenance": []
    },
    "kernelspec": {
      "display_name": "Python 3",
      "name": "python3"
    },
    "language_info": {
      "name": "python"
    }
  },
  "nbformat": 4,
  "nbformat_minor": 0
}