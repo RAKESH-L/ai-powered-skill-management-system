{
  "nbformat": 4,
  "nbformat_minor": 0,
  "metadata": {
    "colab": {
      "provenance": []
    },
    "kernelspec": {
      "name": "python3",
      "display_name": "Python 3"
    },
    "language_info": {
      "name": "python"
    }
  },
  "cells": [
    {
      "cell_type": "code",
      "execution_count": null,
      "metadata": {
        "id": "S93IMuNpUDW_"
      },
      "outputs": [],
      "source": [
        "try:\n",
        "    import spacy\n",
        "    import json\n",
        "except Exception as e:\n",
        "    print(e)\n",
        "\n",
        "\n",
        "class EntityGenerator(object):\n",
        "\n",
        "    _slots__ = ['text']\n",
        "\n",
        "    def __init__(self, text=None):\n",
        "        self.text = text\n",
        "\n",
        "    def get(self):\n",
        "        \"\"\"\n",
        "        Return a Json\n",
        "        \"\"\"\n",
        "        nlp = spacy.load(\"en_core_web_sm\")\n",
        "        doc = nlp(self.text)\n",
        "        text = [ent.text for ent in doc.ents]\n",
        "        entity = [ent.label_ for ent in doc.ents]\n",
        "\n",
        "        from collections import Counter\n",
        "        import json\n",
        "\n",
        "        data = Counter(zip(entity))\n",
        "        unique_entity = list(data.keys())\n",
        "        unique_entity = [x[0] for x in unique_entity]\n",
        "\n",
        "        d = {}\n",
        "        for val in unique_entity:\n",
        "            d[val] = []\n",
        "\n",
        "        for key,val in dict(zip(text, entity)).items():\n",
        "            if val in unique_entity:\n",
        "                d[val].append(key)\n",
        "        return d"
      ]
    },
    {
      "cell_type": "code",
      "source": [
        "pip install PyPDF2\n"
      ],
      "metadata": {
        "colab": {
          "base_uri": "https://localhost:8080/"
        },
        "id": "jRKX3s_4VFsu",
        "outputId": "a18650d0-5ff5-4350-d498-dc70dddc8e51"
      },
      "execution_count": null,
      "outputs": [
        {
          "output_type": "stream",
          "name": "stdout",
          "text": [
            "Requirement already satisfied: PyPDF2 in /usr/local/lib/python3.10/dist-packages (3.0.1)\n"
          ]
        }
      ]
    },
    {
      "cell_type": "code",
      "source": [
        "try:\n",
        "    import PyPDF2\n",
        "    import requests\n",
        "    import json\n",
        "except Exception:\n",
        "    pass\n",
        "\n",
        "class Resume(object):\n",
        "    def __init__(self, filename=None):\n",
        "        self.filename = filename\n",
        "\n",
        "    def get(self):\n",
        "        fFileObj = open(self.filename, 'rb')\n",
        "        pdfReader = PyPDF2.PdfReader(fFileObj)\n",
        "        total_pages = len(pdfReader.pages)\n",
        "        print(\"Total Pages : {} \".format(total_pages))\n",
        "\n",
        "        resume = \"\"\n",
        "        for page_num in range(total_pages):\n",
        "            pageObj = pdfReader.pages[page_num]\n",
        "            resume += pageObj.extract_text()\n",
        "\n",
        "        return resume\n"
      ],
      "metadata": {
        "id": "tzdt1ll7UlOR"
      },
      "execution_count": null,
      "outputs": []
    },
    {
      "cell_type": "code",
      "source": [
        "resume = Resume(filename=\"raky.pdf\")\n",
        "response_text = resume.get()\n"
      ],
      "metadata": {
        "colab": {
          "base_uri": "https://localhost:8080/"
        },
        "id": "UHztezX_Uqol",
        "outputId": "36ab7815-2f25-43c9-de99-bd6a04191f45"
      },
      "execution_count": null,
      "outputs": [
        {
          "output_type": "stream",
          "name": "stdout",
          "text": [
            "Total Pages : 6 \n"
          ]
        }
      ]
    },
    {
      "cell_type": "code",
      "source": [
        "response_text\n"
      ],
      "metadata": {
        "colab": {
          "base_uri": "https://localhost:8080/",
          "height": 782
        },
        "id": "PphxVOEYXclT",
        "outputId": "a714dbc5-9ba5-4d9d-c74e-560778335725"
      },
      "execution_count": null,
      "outputs": [
        {
          "output_type": "execute_result",
          "data": {
            "text/plain": [
              "'  \\n  \\n1. Station H (this is Internal source of hexaware company where i will be getting employee \\ndetails) - the details are  \\n  \\nemployee name - ex: Rakesh L,  \\nemployee id - ex: 2000080631  \\nemployee mail id (hexaware mail id) - ex: 2000080631@hexaware.com,  \\n  \\nBio - Rakesh L is an experienced Full Stack developer with expertise in Java, Python, C, and \\nSQL.  \\nProficient in backend development using Spring Boot Java framework,  \\nhe also excels in frontend frameworks like Angular and Node.js. Skilled in cloud computing \\nwith AWS services,  \\nhe specializes in MS SQL Server and MySQL for efficient data management.  \\nRakesh holds a Bachelor\\'s degree in Computer Science from Channabasweshwara \\nInstitute of Technology.,  \\n  \\nInterest - Rakesh L exhibits a strong interest in Full Stack Development,  \\nleveraging tools like Spring Tool Suite, Visual Studio Code, MySQL, AWS EC2, and AWS S3 \\nBucket.  \\nHe actively contributes to healthcare projects, aiming to provide affordable services to \\ndoctors and patients.  \\nContinuous learning is evident through his certifications in Azure, Java Programming \\nLanguage, and  \\nPython Basic Programming. His achievements, including Best Outgoing Student and \\nDesign -a-thon Winner,  \\nunderscore his commitment to excellence. Rakesh\\'s diverse work experiences in finance, \\nhealthcare, and  portfolio management showcase his versatility and curiosity across different domains.,  \\n  \\nkey word - Full Stack Development  \\nJava, Python, C, SQL  \\nSpring Boot, Angular, Node.js  \\nAWS (EC2, S3 Bucket)  \\nMS SQL Server, MySQL  \\nCloud Computing  \\nSoftware Development Lifecycle  \\nAgile Methodology  \\nPortfolio Management  \\nHealthcare Services  \\nCertification (Azure, Java Programming Language, Python Basic Programming)  \\nAchievements (Best Outgoing Student, Design -a-thon Winner)  \\nScrum Master  \\nUnified Security Master  \\nLondon Stock Exchange Group (LSEG)  \\nTeam Collaboration  \\nContinuous Learning  \\nVersatility  \\nAdaptability  \\nCommitment to Excellence  \\n  \\n  \\n2. payroll (this is Internal source of hexaware company where i will be getting employee \\ndetails) -- the details are  Department - BFS,  \\nGrade - G2, \\nDesignation - Associate Software Engineer, etc  \\n  \\n3. Hexaguru+(Learning & Development records of hexaware company) - the details are  \\n{ \\ncourse completed [  \\n{ \\nname - AZ-900 (Azure) ,   \\npercentage - 90%,  \\nrating - 8/10,  \\ncertificate - Certificates for AZ -900 (Azure),  \\n}, \\n{ \\nname - Java Programming Language,   \\npercentage - 80%,  \\nrating - 8.5/10,  \\ncertificate - Java Programming Language  \\n}, \\n{ \\nname - Python Basic Programming ,   \\npercentage - 100%,  \\nrating - 9/10,  \\ncertificate - Python Basic Programming  \\n}, \\n ] \\n  \\n  \\n4. PMS (this is Internal source of hexaware company where we will be getting appraisee)  \\ndetails of appraisal, etc  \\n  \\n5. GitHub (this is external source of employee) -  \\nex:  \\nProject : PMS project,  \\nlanguages - [ \\n           HTML : 74.87%,  \\n           TypeScript : 20.44%,  \\n           JavaScript : 4.44%,  \\n           CSS : 0.25%  \\n] \\n  \\n6. Jira board((this is external source of employee) -  \\nexample  \\n{ \\n        \"Actual Start\": null,  \\n        \"Due Date\": \"2024 -05-10\",  \\n        \"Parent Task\": null,  \\n        \"Percentage\": \"133.33% completed\",  \\n        \"Priority\": \"Medium\",  \\n        \"Status\": \"To Do\",  \\n        \"Type\": \"Task\",          \"name\": \"KAN -10: Designathon Database\",  \\n        \"subtasks\": [  \\n            { \\n                \"Actual Start\": null,  \\n                \"Due Date\": \"2024 -05-10\",  \\n                \"Parent Task\": \"KAN -10\",  \\n                \"Percentage\": \"0.00% completed\",  \\n                \"Priority\": \"Lowest\",  \\n                \"Status\": \"To Do\",  \\n                \"Type\": \"Subtask\",  \\n                \"name\": \"KAN -13: Implement Business logic to store login details to DB\"  \\n            }, \\n            { \\n                \"Actual Start\": null,  \\n                \"Due Date\": \"2024 -05-10\",  \\n                \"Parent Task\": \"KAN -10\",  \\n                \"Percentage\": \"0.00% completed\",  \\n                \"Priority\": \"Low\",  \\n                \"Status\": \"To Do\",  \\n                \"Type\": \"Subtask\",  \\n                \"name\": \"KAN -12: Implement Business logic to store profile data to DB\"  \\n            }, \\n            { \\n                \"Actual Start\": null,  \\n                \"Due Date\": \"2024 -05-10\",  \\n                \"Parent Task\": \"KAN -10\",                  \"Percentage\": \"0.00% completed\",  \\n                \"Priority\": \"Medium\",  \\n                \"Status\": \"In Progress\",  \\n                \"Type\": \"Subtask\",  \\n                \"name\": \"KAN -11: Implement Business logic to store skill set data to DB\"  \\n            } \\n        ] \\n    }, \\n  \\n7. LinkedIn (this is external source of employee) -  \\nexample - \\n{ \\n    \"email\": \"rakeshofficial22@gmail.com\",  \\n    \"email_verified\": true,  \\n    \"family_name\": \"L\",  \\n    \"given_name\": \"Rakesh\",  \\n    \"locale\": {  \\n        \"country\": \"US\",  \\n        \"language\": \"en\"  \\n    }, \\n    \"name\": \"Rakesh L\",  \\n    \"picture\": \"https://media.licdn.com/dms/image/C5603AQEx0fZ4nsDHyQ/profile -\\ndisplayphoto -\\nshrink_100_100/0/1589305828494?e=1718841600&v=beta&t=5V9gbvOeo7tZzC7FiwWsiyZ\\njYYdCmex83RMvAANC1Lk\",  \\n    \"sub\": \"6JfMcGpQV7\"  \\n} '"
            ],
            "application/vnd.google.colaboratory.intrinsic+json": {
              "type": "string"
            }
          },
          "metadata": {},
          "execution_count": 40
        }
      ]
    },
    {
      "cell_type": "code",
      "source": [
        "helper = EntityGenerator(text=response_text)\n",
        "response = helper.get()\n",
        "print(json.dumps(response , indent=4))"
      ],
      "metadata": {
        "colab": {
          "base_uri": "https://localhost:8080/"
        },
        "id": "uXbYE6pqWNJ8",
        "outputId": "e45a37f5-6471-44d6-dea2-b6fdd42a648c"
      },
      "execution_count": null,
      "outputs": [
        {
          "output_type": "stream",
          "name": "stdout",
          "text": [
            "{\n",
            "    \"CARDINAL\": [\n",
            "        \"1\",\n",
            "        \"2\",\n",
            "        \"3\",\n",
            "        \"4\",\n",
            "        \"5\",\n",
            "        \"6\",\n",
            "        \"7\",\n",
            "        \"6JfMcGpQV7\"\n",
            "    ],\n",
            "    \"DATE\": [\n",
            "        \"2000080631\",\n",
            "        \"2024\"\n",
            "    ],\n",
            "    \"ORG\": [\n",
            "        \"Bio - Rakesh L\",\n",
            "        \"SQL\",\n",
            "        \"MS SQL Server\",\n",
            "        \"Bachelor\",\n",
            "        \"Computer Science from Channabasweshwara \\nInstitute of Technology\",\n",
            "        \"Interest - Rakesh L\",\n",
            "        \"Full Stack Development\",\n",
            "        \"Visual Studio\",\n",
            "        \"AWS S3\",\n",
            "        \"Portfolio Management  \\nHealthcare Services  \\nCertification\",\n",
            "        \"London Stock Exchange Group\",\n",
            "        \"Department - BFS\",\n",
            "        \"Hexaguru+(Learning & Development\",\n",
            "        \"PMS\",\n",
            "        \"Internal\",\n",
            "        \"GitHub\",\n",
            "        \"TypeScript\",\n",
            "        \"CSS\"\n",
            "    ],\n",
            "    \"GPE\": [\n",
            "        \"Java\",\n",
            "        \"Azure\",\n",
            "        \"US\",\n",
            "        \"beta&t=5V9gbvOeo7tZzC7FiwWsiyZ\"\n",
            "    ],\n",
            "    \"EVENT\": [\n",
            "        \"Spring Boot Java\",\n",
            "        \"Spring Tool Suite\"\n",
            "    ],\n",
            "    \"NORP\": [\n",
            "        \"Angular\"\n",
            "    ],\n",
            "    \"PERSON\": [\n",
            "        \"Continuous\",\n",
            "        \"Java Programming \\nLanguage\",\n",
            "        \"Winner\",\n",
            "        \"S3 Bucket\",\n",
            "        \"SQL Server\",\n",
            "        \"Java Programming Language\",\n",
            "        \"Jira\",\n",
            "        \"Designathon Database\",\n",
            "        \"LinkedIn\"\n",
            "    ],\n",
            "    \"WORK_OF_ART\": [\n",
            "        \"Best Outgoing Student\",\n",
            "        \"Due Date\",\n",
            "        \"Parent Task\",\n",
            "        \"In Progress\"\n",
            "    ],\n",
            "    \"PRODUCT\": [\n",
            "        \"Grade - G2\",\n",
            "        \"JavaScript\",\n",
            "        \"-05-10\"\n",
            "    ],\n",
            "    \"PERCENT\": [\n",
            "        \"90%\",\n",
            "        \"80%\",\n",
            "        \"74.87%\",\n",
            "        \"20.44%\",\n",
            "        \"4.44%\",\n",
            "        \"0.25%\",\n",
            "        \"133.33%\",\n",
            "        \"0.00%\"\n",
            "    ]\n",
            "}\n"
          ]
        }
      ]
    },
    {
      "cell_type": "code",
      "source": [
        "experience = [entity for entity in response[\"ORG\"] if entity not in {\"Associate Software Engineer\", \"BFS\", \"Hexaware\", \"PMS\"}]\n",
        "skills = [entity for entity in response[\"ORG\"] if entity in {\"HTML\", \"TypeScript\", \"CSS\", \"JavaScript\"}]\n",
        "\n",
        "\n",
        "print(\"Experience:\", experience)\n",
        "print(\"Skills:\", skills)\n"
      ],
      "metadata": {
        "colab": {
          "base_uri": "https://localhost:8080/"
        },
        "id": "ioZQHW2jFaJN",
        "outputId": "0a1c3e3c-087f-4baa-c4fe-a64819caa975"
      },
      "execution_count": null,
      "outputs": [
        {
          "output_type": "stream",
          "name": "stdout",
          "text": [
            "Experience: ['Bio - Rakesh L', 'SQL', 'MS SQL Server', 'Bachelor', 'Computer Science from Channabasweshwara \\nInstitute of Technology', 'Interest - Rakesh L', 'Full Stack Development', 'Visual Studio', 'AWS S3', 'Portfolio Management  \\nHealthcare Services  \\nCertification', 'London Stock Exchange Group', 'Department - BFS', 'Hexaguru+(Learning & Development', 'Internal', 'GitHub', 'TypeScript', 'CSS']\n",
            "Skills: ['TypeScript', 'CSS']\n"
          ]
        }
      ]
    },
    {
      "cell_type": "code",
      "source": [],
      "metadata": {
        "id": "1K8iKgxuDnTZ"
      },
      "execution_count": null,
      "outputs": []
    },
    {
      "cell_type": "code",
      "source": [],
      "metadata": {
        "id": "wbcv69fWDoVD"
      },
      "execution_count": null,
      "outputs": []
    },
    {
      "cell_type": "code",
      "source": [
        "# Load the English language model in spaCy\n",
        "nlp = spacy.load(\"en_core_web_sm\")\n",
        "\n",
        "# Extract technology-related experience and skills\n",
        "tech_experience = []\n",
        "tech_skills = []\n",
        "\n",
        "for entity in response[\"ORG\"]:\n",
        "    doc = nlp(entity)\n",
        "    for token in doc:\n",
        "        if token.pos_ == \"NOUN\" or token.pos_ == \"PROPN\":\n",
        "            tech_skills.append(token.text)\n",
        "        elif token.pos_ == \"ADJ\":\n",
        "            tech_experience.append(token.text)\n",
        "\n",
        "print(\"Technology-related Experience:\", tech_experience)\n",
        "print(\"Technology-related Skills:\", tech_skills)"
      ],
      "metadata": {
        "colab": {
          "base_uri": "https://localhost:8080/"
        },
        "id": "u3k58YHdGRXZ",
        "outputId": "e2bb8d39-271c-4c2c-8023-30de1a0d8681"
      },
      "execution_count": null,
      "outputs": [
        {
          "output_type": "stream",
          "name": "stdout",
          "text": [
            "Technology-related Experience: ['Full', 'Internal']\n",
            "Technology-related Skills: ['Bio', 'Rakesh', 'L', 'SQL', 'MS', 'SQL', 'Server', 'Bachelor', 'Computer', 'Science', 'Channabasweshwara', 'Institute', 'Technology', 'Interest', 'Rakesh', 'L', 'Stack', 'Development', 'Visual', 'Studio', 'AWS', 'S3', 'Portfolio', 'Management', 'Healthcare', 'Services', 'Certification', 'London', 'Stock', 'Exchange', 'Group', 'Department', 'BFS', 'Hexaguru+(Learning', 'Development', 'PMS', 'GitHub', 'TypeScript', 'CSS']\n"
          ]
        }
      ]
    },
    {
      "cell_type": "code",
      "source": [
        "# Sample data\n",
        "data = [\n",
        "    {\"word\": \"aws\", \"entity_group\": \"TECHNOLOGY\", \"count\": 2, \"Percent\": 50},\n",
        "    {\"word\": \"Java\", \"entity_group\": \"TECHNOLOGY\", \"count\": 1, \"Percent\": 25},\n",
        "    {\"word\": \"Python\", \"entity_group\": \"TECHNOLOGY\", \"count\": 1, \"Percent\": 25}\n",
        "]\n",
        "\n",
        "# Define courses associated with each term\n",
        "courses = {\n",
        "    \"aws\": [\"AWS Fundamentals\", \"AWS Certified Solutions Architect\", \"AWS Developer Associate\"],\n",
        "    \"Java\": [\"Java Programming for Beginners\", \"Advanced Java Programming\", \"Java Web Development\"],\n",
        "    \"Python\": [\"Python Programming for Beginners\", \"Data Science with Python\", \"Python Web Development\"]\n",
        "}\n",
        "\n",
        "# Calculate the maximum percentage dynamically\n",
        "max_percentage = max(item[\"Percent\"] for item in data)\n",
        "\n",
        "# Recommend courses for terms with a percentage less than the maximum percentage\n",
        "recommended_courses = [courses]\n",
        "for item in data:\n",
        "    if item[\"Percent\"] < max_percentage:\n",
        "        term = item[\"word\"]\n",
        "        recommended_courses.extend(courses.get(term, []))\n",
        "\n",
        "for course in recommended_courses:\n",
        "    print(course)\n",
        "\n"
      ],
      "metadata": {
        "colab": {
          "base_uri": "https://localhost:8080/"
        },
        "id": "e5uv4frmDpWO",
        "outputId": "a5b44fee-66d7-4163-bf39-a16ace60c400"
      },
      "execution_count": null,
      "outputs": [
        {
          "output_type": "stream",
          "name": "stdout",
          "text": [
            "{'aws': ['AWS Fundamentals', 'AWS Certified Solutions Architect', 'AWS Developer Associate'], 'Java': ['Java Programming for Beginners', 'Advanced Java Programming', 'Java Web Development'], 'Python': ['Python Programming for Beginners', 'Data Science with Python', 'Python Web Development']}\n",
            "Java Programming for Beginners\n",
            "Advanced Java Programming\n",
            "Java Web Development\n",
            "Python Programming for Beginners\n",
            "Data Science with Python\n",
            "Python Web Development\n"
          ]
        }
      ]
    }
  ]
}